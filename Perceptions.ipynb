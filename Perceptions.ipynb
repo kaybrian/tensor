{
  "nbformat": 4,
  "nbformat_minor": 0,
  "metadata": {
    "colab": {
      "provenance": [],
      "authorship_tag": "ABX9TyMtRYXPXbdhhXnHYsd0+owV",
      "include_colab_link": true
    },
    "kernelspec": {
      "name": "python3",
      "display_name": "Python 3"
    },
    "language_info": {
      "name": "python"
    }
  },
  "cells": [
    {
      "cell_type": "markdown",
      "metadata": {
        "id": "view-in-github",
        "colab_type": "text"
      },
      "source": [
        "<a href=\"https://colab.research.google.com/github/kaybrian/tensor/blob/main/Perceptions.ipynb\" target=\"_parent\"><img src=\"https://colab.research.google.com/assets/colab-badge.svg\" alt=\"Open In Colab\"/></a>"
      ]
    },
    {
      "cell_type": "markdown",
      "source": [
        "A simple program to make a python preceptor in NNs"
      ],
      "metadata": {
        "id": "_D5zImYrWM49"
      }
    },
    {
      "cell_type": "code",
      "execution_count": 9,
      "metadata": {
        "id": "xLgvugMkPc9M"
      },
      "outputs": [],
      "source": [
        "inputs = [35, 25]"
      ]
    },
    {
      "cell_type": "code",
      "source": [
        "weights = [0.8, 0.1]"
      ],
      "metadata": {
        "id": "8NJD-CTmP6P9"
      },
      "execution_count": 10,
      "outputs": []
    },
    {
      "cell_type": "code",
      "source": [
        "def sum(inputs, weights):\n",
        "  s = 0\n",
        "  for i in range(2):\n",
        "    s += inputs[i] * weights[i]\n",
        "  return s"
      ],
      "metadata": {
        "id": "wggAK0XtQcgN"
      },
      "execution_count": 11,
      "outputs": []
    },
    {
      "cell_type": "code",
      "source": [
        "s = sum(inputs, weights)"
      ],
      "metadata": {
        "id": "X3WRJEtoVKA2"
      },
      "execution_count": 12,
      "outputs": []
    },
    {
      "cell_type": "code",
      "source": [
        "# step functions\n",
        "\n",
        "def step_function(sum):\n",
        "  if sum >= 1:\n",
        "    return 1\n",
        "  return 0\n"
      ],
      "metadata": {
        "id": "yL90f8VAVNKc"
      },
      "execution_count": 14,
      "outputs": []
    },
    {
      "cell_type": "code",
      "source": [
        "# creating the perceptor\n",
        "step_function(s)"
      ],
      "metadata": {
        "colab": {
          "base_uri": "https://localhost:8080/"
        },
        "id": "e07fhwGIVOP8",
        "outputId": "489b8398-74a8-4e54-8607-086919efa0fd"
      },
      "execution_count": 15,
      "outputs": [
        {
          "output_type": "execute_result",
          "data": {
            "text/plain": [
              "1"
            ]
          },
          "metadata": {},
          "execution_count": 15
        }
      ]
    },
    {
      "cell_type": "code",
      "source": [],
      "metadata": {
        "id": "f0rJXd6NWKBc"
      },
      "execution_count": null,
      "outputs": []
    }
  ]
}